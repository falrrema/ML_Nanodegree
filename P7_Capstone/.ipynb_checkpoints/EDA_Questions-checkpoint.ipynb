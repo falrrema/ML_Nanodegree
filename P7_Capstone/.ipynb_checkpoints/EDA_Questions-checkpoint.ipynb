{
 "cells": [
  {
   "cell_type": "markdown",
   "metadata": {},
   "source": [
    "# Exploratory Data Analysis\n",
    "\n",
    "### <font color='salmon'>Project: Quora Insincere Questions Classification Project</font> \n",
    "\n",
    "The following notebook will explore the data set provided in the quora kaggle competition. "
   ]
  },
  {
   "cell_type": "code",
   "execution_count": 23,
   "metadata": {},
   "outputs": [],
   "source": [
    "# Loading libraries\n",
    "from sklearn import model_selection, preprocessing, linear_model, naive_bayes, metrics, svm\n",
    "from sklearn.feature_extraction.text import TfidfVectorizer, CountVectorizer\n",
    "import pandas as pd\n",
    "import numpy as np\n",
    "import string as st\n",
    "from tqdm import tqdm\n",
    "import matplotlib.pyplot as plt\n",
    "import seaborn as sns\n",
    "import nltk\n",
    "from wordcloud import WordCloud, STOPWORDS\n",
    "%matplotlib inline\n",
    "\n",
    "# Loading helper functions\n",
    "import helper as h"
   ]
  },
  {
   "cell_type": "markdown",
   "metadata": {},
   "source": [
    "### <font color='firebrick'>1. Basic Statistics </font> "
   ]
  },
  {
   "cell_type": "code",
   "execution_count": 3,
   "metadata": {},
   "outputs": [
    {
     "data": {
      "text/html": [
       "<div>\n",
       "<style scoped>\n",
       "    .dataframe tbody tr th:only-of-type {\n",
       "        vertical-align: middle;\n",
       "    }\n",
       "\n",
       "    .dataframe tbody tr th {\n",
       "        vertical-align: top;\n",
       "    }\n",
       "\n",
       "    .dataframe thead th {\n",
       "        text-align: right;\n",
       "    }\n",
       "</style>\n",
       "<table border=\"1\" class=\"dataframe\">\n",
       "  <thead>\n",
       "    <tr style=\"text-align: right;\">\n",
       "      <th></th>\n",
       "      <th>qid</th>\n",
       "      <th>question_text</th>\n",
       "      <th>target</th>\n",
       "    </tr>\n",
       "  </thead>\n",
       "  <tbody>\n",
       "    <tr>\n",
       "      <th>959000</th>\n",
       "      <td>bbe41d257f0b65c1e524</td>\n",
       "      <td>How do you know if the clutch in the car is gone?</td>\n",
       "      <td>0</td>\n",
       "    </tr>\n",
       "    <tr>\n",
       "      <th>748772</th>\n",
       "      <td>92b1b063939fb02b351e</td>\n",
       "      <td>How do you deal with anger outburst within a r...</td>\n",
       "      <td>0</td>\n",
       "    </tr>\n",
       "    <tr>\n",
       "      <th>866745</th>\n",
       "      <td>a9d263eea7cfba0030b0</td>\n",
       "      <td>Is Acela Express really worth to take?</td>\n",
       "      <td>0</td>\n",
       "    </tr>\n",
       "    <tr>\n",
       "      <th>86613</th>\n",
       "      <td>10f9ea7b9eab8c1eb193</td>\n",
       "      <td>What are the thermal properties of alumina? Wh...</td>\n",
       "      <td>0</td>\n",
       "    </tr>\n",
       "    <tr>\n",
       "      <th>244306</th>\n",
       "      <td>2fc86896a7ba3fff9082</td>\n",
       "      <td>Can any dentists on Quora advise if Nancy Pelo...</td>\n",
       "      <td>1</td>\n",
       "    </tr>\n",
       "  </tbody>\n",
       "</table>\n",
       "</div>"
      ],
      "text/plain": [
       "                         qid  \\\n",
       "959000  bbe41d257f0b65c1e524   \n",
       "748772  92b1b063939fb02b351e   \n",
       "866745  a9d263eea7cfba0030b0   \n",
       "86613   10f9ea7b9eab8c1eb193   \n",
       "244306  2fc86896a7ba3fff9082   \n",
       "\n",
       "                                            question_text  target  \n",
       "959000  How do you know if the clutch in the car is gone?       0  \n",
       "748772  How do you deal with anger outburst within a r...       0  \n",
       "866745             Is Acela Express really worth to take?       0  \n",
       "86613   What are the thermal properties of alumina? Wh...       0  \n",
       "244306  Can any dentists on Quora advise if Nancy Pelo...       1  "
      ]
     },
     "execution_count": 3,
     "metadata": {},
     "output_type": "execute_result"
    }
   ],
   "source": [
    "# Loading Data\n",
    "tqdm.pandas()\n",
    "train_set = pd.read_csv('Data/train.csv', encoding = 'latin1')\n",
    "train_set.sample(5)"
   ]
  },
  {
   "cell_type": "code",
   "execution_count": 4,
   "metadata": {},
   "outputs": [
    {
     "data": {
      "text/plain": [
       "(1048575, 3)"
      ]
     },
     "execution_count": 4,
     "metadata": {},
     "output_type": "execute_result"
    }
   ],
   "source": [
    "train_set.shape"
   ]
  },
  {
   "cell_type": "markdown",
   "metadata": {},
   "source": [
    "**The data consists of 3 columns, the question id (qid), the questions text (question_text) and target column (target). The is a total 1048575 rows.**"
   ]
  },
  {
   "cell_type": "code",
   "execution_count": 5,
   "metadata": {
    "scrolled": true
   },
   "outputs": [
    {
     "name": "stdout",
     "output_type": "stream",
     "text": [
      "Strong class imbalance. There are 64774 of insincere question that representthe 6.2% of the data\n"
     ]
    },
    {
     "data": {
      "image/png": "[encoded data removed]",
      "text/plain": [
       "<Figure size 432x288 with 1 Axes>"
      ]
     },
     "metadata": {},
     "output_type": "display_data"
    }
   ],
   "source": [
    "# Target variable count\n",
    "ax = sns.countplot(y=\"target\", data=train_set, palette=\"Set1\") # strong class imbalance \n",
    "cnts = train_set.target.value_counts()\n",
    "print(\"Strong class imbalance. \" \n",
    "      \"There are {} of insincere question that represent\"\n",
    "      \"the {}% of the data\".format(cnts[1], round(cnts[1]/sum(cnts)*100, 1)))"
   ]
  },
  {
   "cell_type": "markdown",
   "metadata": {},
   "source": [
    "### <font color='firebrick'>2. Text Cleaning and preprocessing </font> \n",
    "\n",
    "Text is the most unstructured form of all the available data, thus various types of noise are present in it. It's necessary to clean, standarise and normalize to make it readily analyzable. I will perform the following text preprocessing pipeline:\n",
    "\n",
    "* Noise Removal: stopwords and punctuations mark.\n",
    "* Lexicon Normalization: Mainly lemmatization. \n"
   ]
  },
  {
   "cell_type": "code",
   "execution_count": 6,
   "metadata": {},
   "outputs": [
    {
     "data": {
      "text/plain": [
       "'How Otto von Guericke used Magdeburg hemispheres?'"
      ]
     },
     "execution_count": 6,
     "metadata": {},
     "output_type": "execute_result"
    }
   ],
   "source": [
    "h.remove_stopwords(train_set.question_text[3], stop_words=STOPWORDS)"
   ]
  },
  {
   "cell_type": "code",
   "execution_count": 15,
   "metadata": {},
   "outputs": [
    {
     "name": "stderr",
     "output_type": "stream",
     "text": [
      "100%|██████████| 1048575/1048575 [00:01<00:00, 718732.19it/s]\n",
      "100%|██████████| 1048575/1048575 [00:04<00:00, 250598.60it/s]\n",
      "100%|██████████| 1048575/1048575 [00:02<00:00, 363726.20it/s]\n"
     ]
    }
   ],
   "source": [
    "train_set['qt_cleaned'] = train_set.question_text.progress_apply(lambda t: t.lower())\n",
    "train_set['qt_cleaned'] = train_set.qt_cleaned.progress_apply(lambda t: h.remove_stopwords(t,stop_words=STOPWORDS))\n",
    "translator = str.maketrans('', '', st.punctuation)\n",
    "train_set['qt_cleaned'] = train_set.qt_cleaned.progress_apply(lambda t: t.translate(translator))"
   ]
  },
  {
   "cell_type": "code",
   "execution_count": 48,
   "metadata": {},
   "outputs": [],
   "source": [
    "words = word_tokenize(str(train_set.qt_cleaned[3]))"
   ]
  },
  {
   "cell_type": "code",
   "execution_count": 51,
   "metadata": {},
   "outputs": [
    {
     "data": {
      "text/plain": [
       "['otto', 'von', 'guericke', 'use', 'magdeburg', 'hemispheres']"
      ]
     },
     "execution_count": 51,
     "metadata": {},
     "output_type": "execute_result"
    }
   ],
   "source": [
    "lem_words = [wnl.lemmatize(word, pos='v') for word in words] \n",
    "\n"
   ]
  },
  {
   "cell_type": "code",
   "execution_count": null,
   "metadata": {
    "scrolled": false
   },
   "outputs": [],
   "source": [
    "# WordCloud of sincere questions\n",
    "sincere_questions = train_set[train_set.target == 0].question_text\n",
    "insincere_questions = train_set[train_set.target == 1].question_text\n",
    "h.plot_wordcloud(sincere_questions, max_words=50, \n",
    "                 max_font_size=100, stop_words = STOPWORDS, \n",
    "                 figure_size=(8,10), scale = 2)"
   ]
  },
  {
   "cell_type": "code",
   "execution_count": null,
   "metadata": {},
   "outputs": [],
   "source": [
    "h.plot_wordcloud(insincere_questions, max_words=50, \n",
    "                 max_font_size=50, stop_words = STOPWORDS, \n",
    "                 figure_size=(8,10), scale = 2)"
   ]
  },
  {
   "cell_type": "markdown",
   "metadata": {},
   "source": [
    "**From the word clouds we see that sincere questions have more words related to verbs that "
   ]
  },
  {
   "cell_type": "code",
   "execution_count": 40,
   "metadata": {},
   "outputs": [],
   "source": [
    "?wnl.lemmatize"
   ]
  },
  {
   "cell_type": "code",
   "execution_count": null,
   "metadata": {},
   "outputs": [],
   "source": []
  }
 ],
 "metadata": {
  "kernelspec": {
   "display_name": "Python 3",
   "language": "python",
   "name": "python3"
  },
  "language_info": {
   "codemirror_mode": {
    "name": "ipython",
    "version": 3
   },
   "file_extension": ".py",
   "mimetype": "text/x-python",
   "name": "python",
   "nbconvert_exporter": "python",
   "pygments_lexer": "ipython3",
   "version": "3.6.5"
  }
 },
 "nbformat": 4,
 "nbformat_minor": 2
}
